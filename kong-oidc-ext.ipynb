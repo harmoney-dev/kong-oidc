{
 "cells": [
  {
   "cell_type": "code",
   "execution_count": 24,
   "metadata": {},
   "outputs": [],
   "source": [
    "# upgrade python\n",
    "# !pip install --upgrade pip\n",
    "# install collapsible heading plugin\n",
    "# !pip install jupyter_contrib_nbextensions"
   ]
  },
  {
   "cell_type": "raw",
   "metadata": {},
   "source": [
    "# Set DEBUG log level for Kong\n",
    "# Add the environemtn in docker-entrypoint.sh\n",
    "export KONG_LOG_LEVEL=debug"
   ]
  },
  {
   "cell_type": "code",
   "execution_count": 22,
   "metadata": {},
   "outputs": [
    {
     "name": "stdout",
     "output_type": "stream",
     "text": [
      "Local host IP: 172.16.1.148\n"
     ]
    }
   ],
   "source": [
    "import requests as req\n",
    "import json\n",
    "\n",
    "import uuid\n",
    "from IPython.display import display_javascript, display_html, display\n",
    "import json\n",
    "\n",
    "class RenderJSON(object):\n",
    "    def __init__(self, json_data):\n",
    "        if isinstance(json_data, dict):\n",
    "            self.json_str = json.dumps(json_data)\n",
    "        else:\n",
    "            self.json_str = json\n",
    "        self.uuid = str(uuid.uuid4())\n",
    "\n",
    "    def _ipython_display_(self):\n",
    "        display_html('<div id=\"{}\" style=\"height: 200px; width:100%;\"></div>'.format(self.uuid),\n",
    "            raw=True\n",
    "        )\n",
    "        display_javascript(\"\"\"\n",
    "        require([\"https://rawgit.com/caldwell/renderjson/master/renderjson.js\"], function() {\n",
    "          renderjson.set_show_to_level(1)\n",
    "          document.getElementById('%s').appendChild(renderjson(%s))\n",
    "        });\n",
    "        \"\"\" % (self.uuid, self.json_str), raw=True)\n",
    "        \n",
    "import socket\n",
    "\n",
    "def get_host_ip():\n",
    "    try:\n",
    "        s = socket.socket(socket.AF_INET, socket.SOCK_DGRAM)\n",
    "        s.connect(('8.8.8.8', 80))\n",
    "        ip = s.getsockname()[0]\n",
    "    finally:\n",
    "        s.close()\n",
    "\n",
    "    return ip\n",
    "\n",
    "theIP = get_host_ip()\n",
    "print (\"Local host IP: \" + theIP)"
   ]
  },
  {
   "cell_type": "markdown",
   "metadata": {},
   "source": [
    "### KeyCloak OpenID Connect URIs"
   ]
  },
  {
   "cell_type": "code",
   "execution_count": 30,
   "metadata": {},
   "outputs": [
    {
     "name": "stdout",
     "output_type": "stream",
     "text": [
      "discovery: http://172.16.1.148:8080/auth/realms/Service/.well-known/openid-configuration\n",
      "issuer: http://172.16.1.148:8080/auth/realms/Service\n",
      "authorization_endpoint: http://172.16.1.148:8080/auth/realms/Service/protocol/openid-connect/auth\n",
      "token_endpoint: http://172.16.1.148:8080/auth/realms/Service/protocol/openid-connect/token\n",
      "token_introspection_endpoint: http://172.16.1.148:8080/auth/realms/Service/protocol/openid-connect/token/introspect\n",
      "userinfo_endpoint: http://172.16.1.148:8080/auth/realms/Service/protocol/openid-connect/userinfo\n",
      "end_session_endpoint: http://172.16.1.148:8080/auth/realms/Service/protocol/openid-connect/logout\n",
      "jwks_uri: http://172.16.1.148:8080/auth/realms/Service/protocol/openid-connect/certs\n",
      "user account: http://172.16.1.148:8080/auth/realms/Service/account/\n"
     ]
    }
   ],
   "source": [
    "urlKeys = ['issuer', \n",
    "            'authorization_endpoint', \n",
    "            'token_endpoint', \n",
    "            'token_introspection_endpoint', \n",
    "            'userinfo_endpoint', \n",
    "            'end_session_endpoint', \n",
    "            'jwks_uri']\n",
    "realm = \"Service\" \n",
    "kcHost = \"http://{}:8080\".format(theIP)\n",
    "kcDiscoveryUrl = \"{}/auth/realms/{}/.well-known/openid-configuration\".format(kcHost, realm)\n",
    "print(\"discovery: \" + kcDiscoveryUrl)\n",
    "resp  = req.get(kcDiscoveryUrl)\n",
    "if resp.status_code != 200:\n",
    "    print(resp.text)\n",
    "else:\n",
    "    oidcConf = json.loads(resp.text)\n",
    "    for urlKey in urlKeys:\n",
    "        print(urlKey + \": \" + oidcConf[urlKey])\n",
    "print('user account: {}/auth/realms/{}/account/'.format(kcHost, realm))\n",
    "authUrl  = oidcConf['authorization_endpoint']\n",
    "tokenUrl = oidcConf['token_endpoint']\n",
    "tokenIntroUrl = oidcConf['token_introspection_endpoint']\n",
    "userUrl  = oidcConf['userinfo_endpoint']\n",
    "kcIssuer = oidcConf['issuer']"
   ]
  },
  {
   "cell_type": "code",
   "execution_count": 31,
   "metadata": {},
   "outputs": [],
   "source": [
    "client_id = \"Harmoney Service\"\n",
    "client_secret = \"932a1892-6ead-4fe9-b0b8-a75f6f8e4b19\""
   ]
  },
  {
   "cell_type": "markdown",
   "metadata": {},
   "source": [
    "### Get Access Token from Keycloak"
   ]
  },
  {
   "cell_type": "code",
   "execution_count": 11,
   "metadata": {},
   "outputs": [
    {
     "name": "stdout",
     "output_type": "stream",
     "text": [
      "200\n",
      "Wall time: 125 ms\n"
     ]
    }
   ],
   "source": [
    "%%time\n",
    "reqJson = {\n",
    "    \"client_id\": client_id,\n",
    "    \"client_secret\": client_secret,\n",
    "    \"username\": \"service\",\n",
    "    \"password\": \"service\",\n",
    "    \"grant_type\": \"password\",\n",
    "    \"scope\": \"openid\" \n",
    "}\n",
    "\n",
    "header = {\n",
    "    \"Content-Type\": \"application/x-www-form-urlencoded\",\n",
    "} \n",
    "\n",
    "response = req.post(tokenUrl, data=reqJson, headers=header)\n",
    "print(response.status_code)\n",
    "if response.status_code > 200:\n",
    "    print (response.text)\n",
    "else:\n",
    "    accessToken = json.loads(response.text)['access_token']"
   ]
  },
  {
   "cell_type": "markdown",
   "metadata": {},
   "source": [
    "### Set up kong-oidc plugins"
   ]
  },
  {
   "cell_type": "code",
   "execution_count": 20,
   "metadata": {},
   "outputs": [
    {
     "name": "stdout",
     "output_type": "stream",
     "text": [
      "200\n"
     ]
    },
    {
     "data": {
      "text/html": [
       "<div id=\"7a277842-1800-446e-a76a-89776fd6a0a3\" style=\"height: 200px; width:100%;\"></div>"
      ]
     },
     "metadata": {},
     "output_type": "display_data"
    },
    {
     "data": {
      "application/javascript": [
       "\n",
       "        require([\"https://rawgit.com/caldwell/renderjson/master/renderjson.js\"], function() {\n",
       "          renderjson.set_show_to_level(1)\n",
       "          document.getElementById('7a277842-1800-446e-a76a-89776fd6a0a3').appendChild(renderjson({\"plugins\": {\"enabled_in_cluster\": [\"syslog\", \"prometheus\", \"key-auth\", \"harmoney-kong-upstream-jwt\", \"oidc\"], \"available_on_server\": {\"correlation-id\": true, \"pre-function\": true, \"cors\": true, \"ldap-auth\": true, \"loggly\": true, \"hmac-auth\": true, \"zipkin\": true, \"request-size-limiting\": true, \"azure-functions\": true, \"request-transformer\": true, \"oauth2\": true, \"response-transformer\": true, \"ip-restriction\": true, \"statsd\": true, \"jwt\": true, \"proxy-cache\": true, \"basic-auth\": true, \"key-auth\": true, \"http-log\": true, \"harmoney-kong-upstream-jwt\": true, \"datadog\": true, \"tcp-log\": true, \"oidc\": true, \"post-function\": true, \"prometheus\": true, \"acl\": true, \"kubernetes-sidecar-injector\": true, \"syslog\": true, \"file-log\": true, \"udp-log\": true, \"response-ratelimiting\": true, \"aws-lambda\": true, \"bot-detection\": true, \"rate-limiting\": true, \"request-termination\": true}}, \"tagline\": \"Welcome to kong\", \"configuration\": {\"error_default_type\": \"text/plain\", \"admin_listen\": [\"0.0.0.0:8001\", \"0.0.0.0:8444 ssl\"], \"proxy_access_log\": \"/dev/stdout\", \"trusted_ips\": {}, \"prefix\": \"/usr/local/kong\", \"loaded_plugins\": {\"correlation-id\": true, \"pre-function\": true, \"cors\": true, \"ldap-auth\": true, \"loggly\": true, \"hmac-auth\": true, \"zipkin\": true, \"request-size-limiting\": true, \"azure-functions\": true, \"request-transformer\": true, \"oauth2\": true, \"response-transformer\": true, \"syslog\": true, \"statsd\": true, \"jwt\": true, \"proxy-cache\": true, \"basic-auth\": true, \"key-auth\": true, \"http-log\": true, \"request-termination\": true, \"datadog\": true, \"tcp-log\": true, \"rate-limiting\": true, \"post-function\": true, \"bot-detection\": true, \"acl\": true, \"kubernetes-sidecar-injector\": true, \"ip-restriction\": true, \"file-log\": true, \"udp-log\": true, \"response-ratelimiting\": true, \"aws-lambda\": true, \"oidc\": true, \"prometheus\": true, \"harmoney-kong-upstream-jwt\": true}, \"cassandra_username\": \"kong\", \"ssl_cert_key\": \"/usr/local/kong/ssl/kong-default.key\", \"admin_ssl_cert_key\": \"/usr/local/kong/ssl/admin-kong-default.key\", \"dns_resolver\": {}, \"pg_user\": \"kong\", \"pg_password\": \"******\", \"cassandra_data_centers\": [\"dc1:2\", \"dc2:3\"], \"nginx_admin_directives\": {}, \"nginx_http_directives\": [{\"value\": \"prometheus_metrics 5m\", \"name\": \"lua_shared_dict\"}], \"pg_host\": \"postgres-kong\", \"nginx_acc_logs\": \"/usr/local/kong/logs/access.log\", \"pg_semaphore_timeout\": 60000, \"proxy_listen\": [\"0.0.0.0:8000\", \"0.0.0.0:8443 ssl\"], \"client_ssl_cert_default\": \"/usr/local/kong/ssl/kong-default.crt\", \"cassandra_ssl\": false, \"db_update_frequency\": 5, \"db_update_propagation\": 0, \"stream_listen\": [\"off\"], \"nginx_err_logs\": \"/usr/local/kong/logs/error.log\", \"cassandra_port\": 9042, \"dns_order\": [\"LAST\", \"SRV\", \"A\", \"CNAME\"], \"dns_error_ttl\": 1, \"headers\": [\"server_tokens\", \"latency_tokens\"], \"cassandra_lb_policy\": \"RequestRoundRobin\", \"nginx_optimizations\": true, \"pg_timeout\": 5000, \"database\": \"postgres\", \"pg_database\": \"kong\", \"nginx_worker_processes\": \"auto\", \"lua_package_cpath\": \"\", \"admin_ssl_cert\": \"/usr/local/kong/ssl/admin-kong-default.crt\", \"admin_acc_logs\": \"/usr/local/kong/logs/admin_access.log\", \"real_ip_header\": \"X-Real-IP\", \"ssl_cert_key_default\": \"/usr/local/kong/ssl/kong-default.key\", \"lua_package_path\": \"./?.lua;./?/init.lua;\", \"nginx_pid\": \"/usr/local/kong/pids/nginx.pid\", \"upstream_keepalive\": 60, \"nginx_conf\": \"/usr/local/kong/nginx.conf\", \"router_consistency\": \"strict\", \"dns_no_sync\": false, \"origins\": {}, \"admin_access_log\": \"/dev/stdout\", \"admin_ssl_cert_default\": \"/usr/local/kong/ssl/admin-kong-default.crt\", \"client_ssl\": false, \"proxy_listeners\": [{\"transparent\": false, \"ssl\": false, \"ip\": \"0.0.0.0\", \"proxy_protocol\": false, \"port\": 8000, \"http2\": false, \"listener\": \"0.0.0.0:8000\"}, {\"transparent\": false, \"ssl\": true, \"ip\": \"0.0.0.0\", \"proxy_protocol\": false, \"port\": 8443, \"http2\": false, \"listener\": \"0.0.0.0:8443 ssl\"}], \"proxy_ssl_enabled\": true, \"stream_listeners\": {}, \"db_cache_warmup_entities\": [\"services\", \"plugins\"], \"enabled_headers\": {\"latency_tokens\": true, \"X-Kong-Proxy-Latency\": true, \"Via\": true, \"server_tokens\": true, \"Server\": true, \"X-Kong-Upstream-Latency\": true, \"X-Kong-Upstream-Status\": false}, \"plugins\": [\"bundled\", \"prometheus\", \"oidc\", \"harmoney-kong-upstream-jwt\"], \"ssl_ciphers\": \"ECDHE-ECDSA-AES256-GCM-SHA384:ECDHE-RSA-AES256-GCM-SHA384:ECDHE-ECDSA-CHACHA20-POLY1305:ECDHE-RSA-CHACHA20-POLY1305:ECDHE-ECDSA-AES128-GCM-SHA256:ECDHE-RSA-AES128-GCM-SHA256:ECDHE-ECDSA-AES256-SHA384:ECDHE-RSA-AES256-SHA384:ECDHE-ECDSA-AES128-SHA256:ECDHE-RSA-AES128-SHA256\", \"db_resurrect_ttl\": 30, \"nginx_proxy_directives\": {}, \"cassandra_consistency\": \"ONE\", \"client_max_body_size\": \"0\", \"admin_error_log\": \"/dev/stderr\", \"pg_ssl_verify\": false, \"dns_not_found_ttl\": 30, \"pg_ssl\": false, \"lua_ssl_verify_depth\": 1, \"ssl_cipher_suite\": \"modern\", \"cassandra_repl_strategy\": \"SimpleStrategy\", \"proxy_error_log\": \"/dev/stderr\", \"kong_env\": \"/usr/local/kong/.kong_env\", \"db_cache_ttl\": 0, \"pg_max_concurrent_queries\": 0, \"nginx_kong_conf\": \"/usr/local/kong/nginx-kong.conf\", \"cassandra_schema_consensus_timeout\": 10000, \"dns_hostsfile\": \"/etc/hosts\", \"admin_listeners\": [{\"transparent\": false, \"ssl\": false, \"ip\": \"0.0.0.0\", \"proxy_protocol\": false, \"port\": 8001, \"http2\": false, \"listener\": \"0.0.0.0:8001\"}, {\"transparent\": false, \"ssl\": true, \"ip\": \"0.0.0.0\", \"proxy_protocol\": false, \"port\": 8444, \"http2\": false, \"listener\": \"0.0.0.0:8444 ssl\"}], \"dns_stale_ttl\": 4, \"ssl_cert\": \"/usr/local/kong/ssl/kong-default.crt\", \"cassandra_timeout\": 5000, \"admin_ssl_cert_key_default\": \"/usr/local/kong/ssl/admin-kong-default.key\", \"cassandra_ssl_verify\": false, \"mem_cache_size\": \"128m\", \"log_level\": \"debug\", \"real_ip_recursive\": \"off\", \"cassandra_repl_factor\": 1, \"client_ssl_cert_key_default\": \"/usr/local/kong/ssl/kong-default.key\", \"nginx_daemon\": \"off\", \"anonymous_reports\": true, \"nginx_sproxy_directives\": {}, \"nginx_stream_directives\": {}, \"pg_port\": 5432, \"nginx_kong_stream_conf\": \"/usr/local/kong/nginx-kong-stream.conf\", \"client_body_buffer_size\": \"8k\", \"ssl_preread_enabled\": true, \"ssl_cert_csr_default\": \"/usr/local/kong/ssl/kong-default.csr\", \"cassandra_contact_points\": [\"127.0.0.1\"], \"cassandra_keyspace\": \"kong\", \"ssl_cert_default\": \"/usr/local/kong/ssl/kong-default.crt\", \"lua_socket_pool_size\": 30, \"admin_ssl_enabled\": true}, \"version\": \"1.2.0\", \"node_id\": \"798e66bd-c5f4-40aa-956d-1f5aabd73d41\", \"lua_version\": \"LuaJIT 2.1.0-beta3\", \"prng_seeds\": {\"pid: 36\": 419010714524, \"pid: 37\": 332441676611, \"pid: 1\": 205143208861}, \"timers\": {\"pending\": 7, \"running\": 0}, \"hostname\": \"09d6f359b795\"}))\n",
       "        });\n",
       "        "
      ]
     },
     "metadata": {},
     "output_type": "display_data"
    }
   ],
   "source": [
    "kongAdminUrl = \"http://{}:8001\".format(theIP)\n",
    "resp = req.get(kongAdminUrl)\n",
    "print(resp.status_code)\n",
    "RenderJSON(json.loads(resp.text))"
   ]
  },
  {
   "cell_type": "code",
   "execution_count": 32,
   "metadata": {},
   "outputs": [
    {
     "name": "stdout",
     "output_type": "stream",
     "text": [
      "201\n"
     ]
    }
   ],
   "source": [
    "oidcJson = {\n",
    "    \"name\": \"oidc\",\n",
    "    \"config.client_id\": client_id,\n",
    "    \"config.client_secret\": client_secret,\n",
    "    \"config.discovery\": kcDiscoveryUrl,\n",
    "    \"config.introspection_endpoint\": tokenIntroUrl,\n",
    "    \"config.token_endpoint\": tokenUrl,\n",
    "    \"config.username\": \"service\",\n",
    "    \"config.password\": \"service\",\n",
    "}\n",
    "\n",
    "header = {\n",
    "    \"Content-Type\": \"application/x-www-form-urlencoded\",\n",
    "} \n",
    "\n",
    "# Add the plugin globally\n",
    "#response = req.post(kongAdminUrl+\"/plugins\", data=oidcJson, headers=header)\n",
    "\n",
    "# Add the plugin for a Service\n",
    "#response = req.post(kongAdminUrl+\"/services/8b20527c-bcbf-41e8-bbcf-08d0d1a6560e/plugins\", data=oidcJson, headers=header)\n",
    "\n",
    "# Add the plugin for a Route\n",
    "response = req.post(kongAdminUrl+\"/routes/42a0488c-e642-4de0-ae89-3e51dd1505c8/plugins\", data=oidcJson, headers=header)\n",
    "print(response.status_code)\n",
    "if response.status_code >= 300:\n",
    "    print (response.text)"
   ]
  },
  {
   "cell_type": "markdown",
   "metadata": {},
   "source": [
    "### Access the service with API Key"
   ]
  },
  {
   "cell_type": "code",
   "execution_count": 33,
   "metadata": {},
   "outputs": [
    {
     "name": "stdout",
     "output_type": "stream",
     "text": [
      "200 Welcome to Harmoney through Kong API Key!\n"
     ]
    }
   ],
   "source": [
    "b2bUrl = \"http://{}:8000/proviso\".format(theIP)\n",
    "header = {\n",
    "    \"apikey\": \"QLc0Ui1P7pr5LAxFYciBxDLY3wmlJYA\",\n",
    "}\n",
    "response = req.get(b2bUrl, headers=header)  \n",
    "print(\"{} {}\".format(response.status_code, response.text))"
   ]
  }
 ],
 "metadata": {
  "kernelspec": {
   "display_name": "Python 3",
   "language": "python",
   "name": "python3"
  },
  "language_info": {
   "codemirror_mode": {
    "name": "ipython",
    "version": 3
   },
   "file_extension": ".py",
   "mimetype": "text/x-python",
   "name": "python",
   "nbconvert_exporter": "python",
   "pygments_lexer": "ipython3",
   "version": "3.7.4"
  }
 },
 "nbformat": 4,
 "nbformat_minor": 2
}
